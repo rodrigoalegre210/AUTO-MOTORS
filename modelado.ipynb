{
 "cells": [
  {
   "cell_type": "markdown",
   "metadata": {},
   "source": [
    "#### Análisis de datos de ventas - Limpieza de datos.\n",
    "\n",
    "Al intentar cargar el archivo 'Ventas.csv' en Power BI, tuve algunos problemas relacionados con el formato de los datos en la columna de **ventas**. \n",
    "\n",
    "1. **Problema de formato**: La columna **ventas** contenía inconsistencias en los formatos numéricos. La mayoría de los registros estaban en formato limpio (números sin separadores de miles ni decimales), pero 5 filas contenían valores formateados con puntos como separadores de miles y comas como separadores de decimales. Estó me resultó en errores al intentar convertir los valores a numérico en Power BI.\n",
    "\n",
    "2. **Problemas de valores nulos**: Se detectaron muchas filas con valores completamente nulos en todas sus columnas."
   ]
  },
  {
   "cell_type": "code",
   "execution_count": 1,
   "metadata": {},
   "outputs": [],
   "source": [
    "import pandas as pd"
   ]
  },
  {
   "cell_type": "code",
   "execution_count": 10,
   "metadata": {},
   "outputs": [
    {
     "name": "stderr",
     "output_type": "stream",
     "text": [
      "C:\\Users\\rodri\\AppData\\Local\\Temp\\ipykernel_7248\\3607709678.py:2: DtypeWarning: Columns (0,1,2,4,5,7,8,9,10,11) have mixed types. Specify dtype option on import or set low_memory=False.\n",
      "  df = pd.read_csv(r'C:\\Users\\rodri\\Desktop\\ID for Ideas - SERVICIO AUTOMOTRIZ “AUTO MOTORS”\\Ventas.csv', sep = ';')\n"
     ]
    }
   ],
   "source": [
    "# Cargamos los datos.\n",
    "df = pd.read_csv(r'C:\\Users\\rodri\\Desktop\\ID for Ideas - SERVICIO AUTOMOTRIZ “AUTO MOTORS”\\Ventas.csv', sep = ';') "
   ]
  },
  {
   "cell_type": "code",
   "execution_count": 11,
   "metadata": {},
   "outputs": [
    {
     "data": {
      "text/plain": [
       "IdCliente        921320\n",
       "NombreCliente    921320\n",
       "Fecha            921320\n",
       "Empleado         921320\n",
       "Referencia       921320\n",
       "Descripcion      921320\n",
       "CodigoFamilia    921320\n",
       "Familia          921320\n",
       "Cantidad         921320\n",
       "Ventas           921320\n",
       "Localidad        921320\n",
       "Sede             921319\n",
       "Area             921320\n",
       "dtype: int64"
      ]
     },
     "execution_count": 11,
     "metadata": {},
     "output_type": "execute_result"
    }
   ],
   "source": [
    "# Vemos los valores nulos del dataset.\n",
    "df.isnull().sum()"
   ]
  },
  {
   "cell_type": "markdown",
   "metadata": {},
   "source": [
    "Todas las columnas tienen 921320 valores faltantes, excepto 'Sede', que contiene un espacio dentro de los registros y es detectada como tipo string al ser una columna de tipo object. Antes de eliminar los datos nulos, es importante verificar que no se esté eliminando información valiosa, en ese caso se deberían realizar técnicas de imputación. En este caso, los 921320 registros nulos son de filas completas, por lo que en esta ocasión, se van a eliminar."
   ]
  },
  {
   "cell_type": "code",
   "execution_count": 12,
   "metadata": {},
   "outputs": [],
   "source": [
    "# Eliminamos los datos nulos del dataset.\n",
    "df = df.dropna()"
   ]
  },
  {
   "cell_type": "code",
   "execution_count": 13,
   "metadata": {},
   "outputs": [
    {
     "data": {
      "text/plain": [
       "IdCliente        0\n",
       "NombreCliente    0\n",
       "Fecha            0\n",
       "Empleado         0\n",
       "Referencia       0\n",
       "Descripcion      0\n",
       "CodigoFamilia    0\n",
       "Familia          0\n",
       "Cantidad         0\n",
       "Ventas           0\n",
       "Localidad        0\n",
       "Sede             0\n",
       "Area             0\n",
       "dtype: int64"
      ]
     },
     "execution_count": 13,
     "metadata": {},
     "output_type": "execute_result"
    }
   ],
   "source": [
    "df.isnull().sum() # Corroboramos que el dataset ya no tenga valores nulos."
   ]
  },
  {
   "cell_type": "markdown",
   "metadata": {},
   "source": [
    "---"
   ]
  },
  {
   "cell_type": "markdown",
   "metadata": {},
   "source": [
    "Ya que el dataset no presenta valores nulos, vamos a trabajar el problema que teníamos con el formato de la columna 'Ventas'."
   ]
  },
  {
   "cell_type": "code",
   "execution_count": 14,
   "metadata": {},
   "outputs": [],
   "source": [
    "df['Ventas'] = df['Ventas'].str.replace('.', '', regex = False) # Eliminamos puntos (separador de miles).\n",
    "df['Ventas'] = df['Ventas'].str.replace(',', '', regex = False) # Eliminamos comas (separador de decimales)."
   ]
  },
  {
   "cell_type": "code",
   "execution_count": 15,
   "metadata": {},
   "outputs": [],
   "source": [
    "df['Ventas'] = pd.to_numeric(df['Ventas'], errors = 'coerce') # Convertimos la columna a numérica."
   ]
  },
  {
   "cell_type": "code",
   "execution_count": 16,
   "metadata": {},
   "outputs": [],
   "source": [
    "# Gurdamos los datos.\n",
    "df.to_csv(r'C:\\Users\\rodri\\Desktop\\ID for Ideas - SERVICIO AUTOMOTRIZ “AUTO MOTORS”\\Ventas2.csv')"
   ]
  }
 ],
 "metadata": {
  "kernelspec": {
   "display_name": "Python 3",
   "language": "python",
   "name": "python3"
  },
  "language_info": {
   "codemirror_mode": {
    "name": "ipython",
    "version": 3
   },
   "file_extension": ".py",
   "mimetype": "text/x-python",
   "name": "python",
   "nbconvert_exporter": "python",
   "pygments_lexer": "ipython3",
   "version": "3.12.5"
  }
 },
 "nbformat": 4,
 "nbformat_minor": 2
}
